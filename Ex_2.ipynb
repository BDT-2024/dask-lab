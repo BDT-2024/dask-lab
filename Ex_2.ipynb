{
 "cells": [
  {
   "cell_type": "code",
   "execution_count": 1,
   "id": "17cc1205-e874-436c-ba0a-ac1a9613e203",
   "metadata": {},
   "outputs": [
    {
     "name": "stderr",
     "output_type": "stream",
     "text": [
      "2024-04-27 17:41:06,359 - distributed.shuffle._scheduler_plugin - WARNING - Shuffle 43207747c3ca800c5e48f8d9e8dc3296 initialized by task ('shuffle-transfer-43207747c3ca800c5e48f8d9e8dc3296', 17) executed on worker tcp://127.0.0.1:52119\n",
      "2024-04-27 17:41:22,050 - distributed.shuffle._scheduler_plugin - WARNING - Shuffle 43207747c3ca800c5e48f8d9e8dc3296 deactivated due to stimulus 'task-finished-1714232482.0498052'\n",
      "2024-04-27 17:42:23,181 - distributed.nanny - WARNING - Restarting worker\n",
      "2024-04-27 17:42:23,182 - distributed.nanny - WARNING - Restarting worker\n",
      "2024-04-27 17:42:23,183 - distributed.nanny - WARNING - Restarting worker\n",
      "2024-04-27 17:42:23,197 - distributed.nanny - WARNING - Restarting worker\n",
      "2024-04-27 17:42:23,220 - distributed.nanny - WARNING - Restarting worker\n",
      "2024-04-27 17:42:23,221 - distributed.nanny - WARNING - Restarting worker\n",
      "2024-04-27 17:42:23,230 - distributed.nanny - WARNING - Restarting worker\n",
      "2024-04-27 17:42:23,326 - distributed.nanny - WARNING - Restarting worker\n",
      "2024-04-27 17:42:23,327 - distributed.nanny - WARNING - Restarting worker\n",
      "2024-04-27 17:42:23,332 - distributed.nanny - WARNING - Restarting worker\n",
      "2024-04-27 17:42:23,340 - distributed.nanny - WARNING - Restarting worker\n",
      "2024-04-27 17:42:23,636 - distributed.nanny - WARNING - Restarting worker\n",
      "2024-04-27 17:42:23,637 - distributed.nanny - WARNING - Restarting worker\n",
      "2024-04-27 17:42:23,641 - distributed.nanny - WARNING - Restarting worker\n",
      "2024-04-27 17:42:23,646 - distributed.nanny - WARNING - Restarting worker\n",
      "2024-04-27 17:42:24,674 - distributed.nanny - WARNING - Restarting worker\n",
      "2024-04-27 17:42:24,675 - distributed.nanny - WARNING - Restarting worker\n",
      "2024-04-27 17:42:24,677 - distributed.nanny - WARNING - Restarting worker\n",
      "2024-04-27 17:42:24,685 - distributed.nanny - WARNING - Restarting worker\n"
     ]
    }
   ],
   "source": [
    "import dask.dataframe as dd\n",
    "import dask.bag as da\n",
    "import os\n",
    "import json\n",
    "import dask\n",
    "\n",
    "from dask.distributed import LocalCluster\n",
    "cluster = LocalCluster()          # Fully-featured local Dask cluster\n",
    "client = cluster.get_client()"
   ]
  },
  {
   "cell_type": "code",
   "execution_count": 2,
   "id": "3aa3fe8d-8bd8-404b-aeb0-c8748c0c8b7d",
   "metadata": {},
   "outputs": [
    {
     "data": {
      "text/plain": [
       "'http://127.0.0.1:8787/status'"
      ]
     },
     "execution_count": 2,
     "metadata": {},
     "output_type": "execute_result"
    }
   ],
   "source": [
    "cluster.dashboard_link"
   ]
  },
  {
   "cell_type": "code",
   "execution_count": 7,
   "id": "58bd5ee5-c172-45d8-a2ec-4b4714ce0287",
   "metadata": {},
   "outputs": [],
   "source": [
    "df = dd.read_csv('gcs://anaconda-public-data/nyc-taxi/csv/2015/green_tripdata_*.csv', \n",
    "                 storage_options={'token': 'anon'},\n",
    "                #parse_dates=['tpep_pickup_datetime', 'tpep_dropoff_datetime'], dtype={'tolls_amount': 'float64'}\n",
    "                 dtype={'Tolls_amount': 'float64',\n",
    "       'Trip_type ': 'float64'},\n",
    "                 #parse_dates=['lpep_pickup_datetime', 'Lpep_dropoff_datetime']\n",
    "                )"
   ]
  },
  {
   "cell_type": "code",
   "execution_count": null,
   "id": "8031fc2e-0427-46ea-9d13-6438e9dc3762",
   "metadata": {},
   "outputs": [],
   "source": []
  },
  {
   "cell_type": "code",
   "execution_count": 8,
   "id": "912d6ec6-fb60-4e80-a0b5-dc1cb5708afe",
   "metadata": {},
   "outputs": [
    {
     "data": {
      "text/html": [
       "<div>\n",
       "<style scoped>\n",
       "    .dataframe tbody tr th:only-of-type {\n",
       "        vertical-align: middle;\n",
       "    }\n",
       "\n",
       "    .dataframe tbody tr th {\n",
       "        vertical-align: top;\n",
       "    }\n",
       "\n",
       "    .dataframe thead th {\n",
       "        text-align: right;\n",
       "    }\n",
       "</style>\n",
       "<table border=\"1\" class=\"dataframe\">\n",
       "  <thead>\n",
       "    <tr style=\"text-align: right;\">\n",
       "      <th></th>\n",
       "      <th>lpep_pickup_datetime</th>\n",
       "      <th>Lpep_dropoff_datetime</th>\n",
       "      <th>Store_and_fwd_flag</th>\n",
       "      <th>RateCodeID</th>\n",
       "      <th>Pickup_longitude</th>\n",
       "      <th>Pickup_latitude</th>\n",
       "      <th>Dropoff_longitude</th>\n",
       "      <th>Dropoff_latitude</th>\n",
       "      <th>Passenger_count</th>\n",
       "      <th>Trip_distance</th>\n",
       "      <th>...</th>\n",
       "      <th>Extra</th>\n",
       "      <th>MTA_tax</th>\n",
       "      <th>Tip_amount</th>\n",
       "      <th>Tolls_amount</th>\n",
       "      <th>Ehail_fee</th>\n",
       "      <th>Total_amount</th>\n",
       "      <th>Payment_type</th>\n",
       "      <th>Distance_between_service</th>\n",
       "      <th>Time_between_service</th>\n",
       "      <th>Trip_type</th>\n",
       "    </tr>\n",
       "  </thead>\n",
       "  <tbody>\n",
       "    <tr>\n",
       "      <th>0</th>\n",
       "      <td>2015-01-01 00:34:42</td>\n",
       "      <td>2015-01-01 00:38:34</td>\n",
       "      <td>N</td>\n",
       "      <td>1</td>\n",
       "      <td>-73.922592</td>\n",
       "      <td>40.754528</td>\n",
       "      <td>-73.913635</td>\n",
       "      <td>40.765522</td>\n",
       "      <td>1</td>\n",
       "      <td>0.88</td>\n",
       "      <td>...</td>\n",
       "      <td>0.5</td>\n",
       "      <td>0.5</td>\n",
       "      <td>0.0</td>\n",
       "      <td>0.0</td>\n",
       "      <td>NaN</td>\n",
       "      <td>6.3</td>\n",
       "      <td>2</td>\n",
       "      <td>1.0</td>\n",
       "      <td>407</td>\n",
       "      <td>1.0</td>\n",
       "    </tr>\n",
       "    <tr>\n",
       "      <th>1</th>\n",
       "      <td>2015-01-01 00:34:46</td>\n",
       "      <td>2015-01-01 00:47:23</td>\n",
       "      <td>N</td>\n",
       "      <td>1</td>\n",
       "      <td>-73.952751</td>\n",
       "      <td>40.677711</td>\n",
       "      <td>-73.981529</td>\n",
       "      <td>40.658978</td>\n",
       "      <td>1</td>\n",
       "      <td>3.08</td>\n",
       "      <td>...</td>\n",
       "      <td>0.5</td>\n",
       "      <td>0.5</td>\n",
       "      <td>0.0</td>\n",
       "      <td>0.0</td>\n",
       "      <td>NaN</td>\n",
       "      <td>13.3</td>\n",
       "      <td>2</td>\n",
       "      <td>0.0</td>\n",
       "      <td>196</td>\n",
       "      <td>1.0</td>\n",
       "    </tr>\n",
       "    <tr>\n",
       "      <th>2</th>\n",
       "      <td>2015-01-01 00:34:44</td>\n",
       "      <td>2015-01-01 00:38:15</td>\n",
       "      <td>N</td>\n",
       "      <td>1</td>\n",
       "      <td>-73.843010</td>\n",
       "      <td>40.719055</td>\n",
       "      <td>-73.846581</td>\n",
       "      <td>40.711567</td>\n",
       "      <td>1</td>\n",
       "      <td>0.90</td>\n",
       "      <td>...</td>\n",
       "      <td>0.5</td>\n",
       "      <td>0.5</td>\n",
       "      <td>1.8</td>\n",
       "      <td>0.0</td>\n",
       "      <td>NaN</td>\n",
       "      <td>7.8</td>\n",
       "      <td>1</td>\n",
       "      <td>69.0</td>\n",
       "      <td>3241</td>\n",
       "      <td>1.0</td>\n",
       "    </tr>\n",
       "    <tr>\n",
       "      <th>3</th>\n",
       "      <td>2015-01-01 00:34:48</td>\n",
       "      <td>2015-01-01 00:38:08</td>\n",
       "      <td>N</td>\n",
       "      <td>1</td>\n",
       "      <td>-73.860825</td>\n",
       "      <td>40.757793</td>\n",
       "      <td>-73.854042</td>\n",
       "      <td>40.749821</td>\n",
       "      <td>1</td>\n",
       "      <td>0.85</td>\n",
       "      <td>...</td>\n",
       "      <td>0.5</td>\n",
       "      <td>0.5</td>\n",
       "      <td>0.0</td>\n",
       "      <td>0.0</td>\n",
       "      <td>NaN</td>\n",
       "      <td>6.3</td>\n",
       "      <td>2</td>\n",
       "      <td>0.0</td>\n",
       "      <td>299</td>\n",
       "      <td>1.0</td>\n",
       "    </tr>\n",
       "    <tr>\n",
       "      <th>4</th>\n",
       "      <td>2015-01-01 00:34:53</td>\n",
       "      <td>2015-01-01 01:09:10</td>\n",
       "      <td>N</td>\n",
       "      <td>1</td>\n",
       "      <td>-73.945183</td>\n",
       "      <td>40.783321</td>\n",
       "      <td>-73.989624</td>\n",
       "      <td>40.765450</td>\n",
       "      <td>1</td>\n",
       "      <td>4.91</td>\n",
       "      <td>...</td>\n",
       "      <td>0.5</td>\n",
       "      <td>0.5</td>\n",
       "      <td>0.0</td>\n",
       "      <td>0.0</td>\n",
       "      <td>NaN</td>\n",
       "      <td>25.8</td>\n",
       "      <td>2</td>\n",
       "      <td>5.0</td>\n",
       "      <td>1287</td>\n",
       "      <td>1.0</td>\n",
       "    </tr>\n",
       "  </tbody>\n",
       "</table>\n",
       "<p>5 rows × 21 columns</p>\n",
       "</div>"
      ],
      "text/plain": [
       "  lpep_pickup_datetime Lpep_dropoff_datetime Store_and_fwd_flag  RateCodeID  \\\n",
       "0  2015-01-01 00:34:42   2015-01-01 00:38:34                  N           1   \n",
       "1  2015-01-01 00:34:46   2015-01-01 00:47:23                  N           1   \n",
       "2  2015-01-01 00:34:44   2015-01-01 00:38:15                  N           1   \n",
       "3  2015-01-01 00:34:48   2015-01-01 00:38:08                  N           1   \n",
       "4  2015-01-01 00:34:53   2015-01-01 01:09:10                  N           1   \n",
       "\n",
       "   Pickup_longitude  Pickup_latitude  Dropoff_longitude  Dropoff_latitude  \\\n",
       "0        -73.922592        40.754528         -73.913635         40.765522   \n",
       "1        -73.952751        40.677711         -73.981529         40.658978   \n",
       "2        -73.843010        40.719055         -73.846581         40.711567   \n",
       "3        -73.860825        40.757793         -73.854042         40.749821   \n",
       "4        -73.945183        40.783321         -73.989624         40.765450   \n",
       "\n",
       "   Passenger_count  Trip_distance  ...  Extra  MTA_tax  Tip_amount  \\\n",
       "0                1           0.88  ...    0.5      0.5         0.0   \n",
       "1                1           3.08  ...    0.5      0.5         0.0   \n",
       "2                1           0.90  ...    0.5      0.5         1.8   \n",
       "3                1           0.85  ...    0.5      0.5         0.0   \n",
       "4                1           4.91  ...    0.5      0.5         0.0   \n",
       "\n",
       "   Tolls_amount  Ehail_fee  Total_amount  Payment_type  \\\n",
       "0           0.0        NaN           6.3             2   \n",
       "1           0.0        NaN          13.3             2   \n",
       "2           0.0        NaN           7.8             1   \n",
       "3           0.0        NaN           6.3             2   \n",
       "4           0.0        NaN          25.8             2   \n",
       "\n",
       "   Distance_between_service  Time_between_service  Trip_type   \n",
       "0                       1.0                   407         1.0  \n",
       "1                       0.0                   196         1.0  \n",
       "2                      69.0                  3241         1.0  \n",
       "3                       0.0                   299         1.0  \n",
       "4                       5.0                  1287         1.0  \n",
       "\n",
       "[5 rows x 21 columns]"
      ]
     },
     "execution_count": 8,
     "metadata": {},
     "output_type": "execute_result"
    }
   ],
   "source": [
    "df.head()"
   ]
  },
  {
   "cell_type": "code",
   "execution_count": null,
   "id": "4ec7a843-29ca-4a12-b4ba-5613c111431c",
   "metadata": {},
   "outputs": [],
   "source": []
  },
  {
   "cell_type": "markdown",
   "id": "dc4fca04-aa5a-4b84-833b-e06371f4ae39",
   "metadata": {},
   "source": [
    "2. **Minimum number of passengers**"
   ]
  },
  {
   "cell_type": "code",
   "execution_count": 9,
   "id": "32f1e7f7-6fa4-4af8-bd6d-bdaccf874541",
   "metadata": {},
   "outputs": [
    {
     "data": {
      "text/plain": [
       "0"
      ]
     },
     "execution_count": 9,
     "metadata": {},
     "output_type": "execute_result"
    }
   ],
   "source": [
    "df['Passenger_count'].min().compute()"
   ]
  },
  {
   "cell_type": "code",
   "execution_count": null,
   "id": "7cce68cd-2a38-44bd-96f1-f0e9da98670c",
   "metadata": {},
   "outputs": [],
   "source": []
  },
  {
   "cell_type": "markdown",
   "id": "005a083e-a614-45de-9dd1-fc541d52e0c7",
   "metadata": {},
   "source": [
    "3. **Maximum number of passengers**"
   ]
  },
  {
   "cell_type": "code",
   "execution_count": 10,
   "id": "bf4ca75f-105c-4c3b-8bb6-1d01b7de39bb",
   "metadata": {},
   "outputs": [
    {
     "data": {
      "text/plain": [
       "9"
      ]
     },
     "execution_count": 10,
     "metadata": {},
     "output_type": "execute_result"
    }
   ],
   "source": [
    "df['Passenger_count'].max().compute()"
   ]
  },
  {
   "cell_type": "code",
   "execution_count": null,
   "id": "dea61eef-19dd-42a3-b19a-37e3406a663c",
   "metadata": {},
   "outputs": [],
   "source": []
  },
  {
   "cell_type": "markdown",
   "id": "c64dc106-9211-40dc-b266-66e35eebc2f5",
   "metadata": {},
   "source": [
    "4. **Find the maximum cost for each number of passengers**"
   ]
  },
  {
   "cell_type": "code",
   "execution_count": 11,
   "id": "92e641c2-bd51-4746-b0cb-46c3c8ccf5ad",
   "metadata": {},
   "outputs": [
    {
     "data": {
      "text/html": [
       "<div><strong>Dask DataFrame Structure:</strong></div>\n",
       "<table border=\"1\" class=\"dataframe\">\n",
       "  <thead>\n",
       "    <tr style=\"text-align: right;\">\n",
       "      <th></th>\n",
       "      <th>Total_amount</th>\n",
       "    </tr>\n",
       "    <tr>\n",
       "      <th>npartitions=1</th>\n",
       "      <th></th>\n",
       "    </tr>\n",
       "  </thead>\n",
       "  <tbody>\n",
       "    <tr>\n",
       "      <th></th>\n",
       "      <td>float64</td>\n",
       "    </tr>\n",
       "    <tr>\n",
       "      <th></th>\n",
       "      <td>...</td>\n",
       "    </tr>\n",
       "  </tbody>\n",
       "</table>\n",
       "<div>Dask Name: groupbyaggregation, 2 expressions</div>"
      ],
      "text/plain": [
       "Dask DataFrame Structure:\n",
       "              Total_amount\n",
       "npartitions=1             \n",
       "                   float64\n",
       "                       ...\n",
       "Dask Name: groupbyaggregation, 2 expressions\n",
       "Expr=GroupbyAggregation(frame=ReadCSV(258b18e), arg={'Total_amount': 'max'}, observed=False)"
      ]
     },
     "execution_count": 11,
     "metadata": {},
     "output_type": "execute_result"
    }
   ],
   "source": [
    "max_amout_per_number_of_passengers = df.groupby(['Passenger_count']).agg({'Total_amount': 'max'})\n",
    "max_amout_per_number_of_passengers"
   ]
  },
  {
   "cell_type": "code",
   "execution_count": null,
   "id": "1717c376-4bf4-4a37-b97e-0899f4d007d0",
   "metadata": {},
   "outputs": [],
   "source": []
  },
  {
   "cell_type": "code",
   "execution_count": 13,
   "id": "a7bdcc0d-eca3-4a7a-bdda-5d0791f4e28e",
   "metadata": {},
   "outputs": [
    {
     "data": {
      "text/html": [
       "<div>\n",
       "<style scoped>\n",
       "    .dataframe tbody tr th:only-of-type {\n",
       "        vertical-align: middle;\n",
       "    }\n",
       "\n",
       "    .dataframe tbody tr th {\n",
       "        vertical-align: top;\n",
       "    }\n",
       "\n",
       "    .dataframe thead th {\n",
       "        text-align: right;\n",
       "    }\n",
       "</style>\n",
       "<table border=\"1\" class=\"dataframe\">\n",
       "  <thead>\n",
       "    <tr style=\"text-align: right;\">\n",
       "      <th></th>\n",
       "      <th>Total_amount</th>\n",
       "    </tr>\n",
       "    <tr>\n",
       "      <th>Passenger_count</th>\n",
       "      <th></th>\n",
       "    </tr>\n",
       "  </thead>\n",
       "  <tbody>\n",
       "    <tr>\n",
       "      <th>2</th>\n",
       "      <td>8011.30</td>\n",
       "    </tr>\n",
       "    <tr>\n",
       "      <th>3</th>\n",
       "      <td>2085.80</td>\n",
       "    </tr>\n",
       "    <tr>\n",
       "      <th>7</th>\n",
       "      <td>122.00</td>\n",
       "    </tr>\n",
       "    <tr>\n",
       "      <th>1</th>\n",
       "      <td>989970.39</td>\n",
       "    </tr>\n",
       "    <tr>\n",
       "      <th>4</th>\n",
       "      <td>499.00</td>\n",
       "    </tr>\n",
       "    <tr>\n",
       "      <th>5</th>\n",
       "      <td>1239.90</td>\n",
       "    </tr>\n",
       "    <tr>\n",
       "      <th>6</th>\n",
       "      <td>874.18</td>\n",
       "    </tr>\n",
       "    <tr>\n",
       "      <th>8</th>\n",
       "      <td>383.00</td>\n",
       "    </tr>\n",
       "    <tr>\n",
       "      <th>0</th>\n",
       "      <td>351.80</td>\n",
       "    </tr>\n",
       "    <tr>\n",
       "      <th>9</th>\n",
       "      <td>290.00</td>\n",
       "    </tr>\n",
       "  </tbody>\n",
       "</table>\n",
       "</div>"
      ],
      "text/plain": [
       "                 Total_amount\n",
       "Passenger_count              \n",
       "2                     8011.30\n",
       "3                     2085.80\n",
       "7                      122.00\n",
       "1                   989970.39\n",
       "4                      499.00\n",
       "5                     1239.90\n",
       "6                      874.18\n",
       "8                      383.00\n",
       "0                      351.80\n",
       "9                      290.00"
      ]
     },
     "execution_count": 13,
     "metadata": {},
     "output_type": "execute_result"
    }
   ],
   "source": [
    "max_amout_per_number_of_passengers.compute()"
   ]
  },
  {
   "cell_type": "code",
   "execution_count": null,
   "id": "24c2d411-4b75-4558-9c85-ea8cc59b5a95",
   "metadata": {},
   "outputs": [],
   "source": []
  }
 ],
 "metadata": {
  "kernelspec": {
   "display_name": "Python 3 (ipykernel)",
   "language": "python",
   "name": "python3"
  },
  "language_info": {
   "codemirror_mode": {
    "name": "ipython",
    "version": 3
   },
   "file_extension": ".py",
   "mimetype": "text/x-python",
   "name": "python",
   "nbconvert_exporter": "python",
   "pygments_lexer": "ipython3",
   "version": "3.11.7"
  }
 },
 "nbformat": 4,
 "nbformat_minor": 5
}
